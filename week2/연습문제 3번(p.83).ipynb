{
 "cells": [
  {
   "cell_type": "code",
   "execution_count": 2,
   "id": "2fb76fb3",
   "metadata": {},
   "outputs": [],
   "source": [
    "import time\n",
    "import random"
   ]
  },
  {
   "cell_type": "code",
   "execution_count": 3,
   "id": "a6c4cffd",
   "metadata": {},
   "outputs": [],
   "source": [
    "start=time.time()\n",
    "num=0.0\n",
    "sum=0\n",
    "\n",
    "for i in range(1, 100000001):\n",
    "        num=random.random()\n",
    "        sum+=num\n",
    "\n",
    "end=time.time()"
   ]
  },
  {
   "cell_type": "code",
   "execution_count": 4,
   "id": "2f62838e",
   "metadata": {},
   "outputs": [
    {
     "name": "stdout",
     "output_type": "stream",
     "text": [
      "50000754.182628274\n",
      "소요 시간은  25.175214529037476 초입니다.\n"
     ]
    }
   ],
   "source": [
    "print(sum)\n",
    "print('소요 시간은 ', end-start, '초입니다.')"
   ]
  },
  {
   "cell_type": "code",
   "execution_count": null,
   "id": "d07fd788",
   "metadata": {},
   "outputs": [],
   "source": []
  }
 ],
 "metadata": {
  "kernelspec": {
   "display_name": "Python 3 (ipykernel)",
   "language": "python",
   "name": "python3"
  },
  "language_info": {
   "codemirror_mode": {
    "name": "ipython",
    "version": 3
   },
   "file_extension": ".py",
   "mimetype": "text/x-python",
   "name": "python",
   "nbconvert_exporter": "python",
   "pygments_lexer": "ipython3",
   "version": "3.7.13"
  }
 },
 "nbformat": 4,
 "nbformat_minor": 5
}
