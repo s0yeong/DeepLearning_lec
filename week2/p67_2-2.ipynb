{
 "cells": [
  {
   "cell_type": "code",
   "execution_count": 1,
   "id": "0f27d219",
   "metadata": {},
   "outputs": [],
   "source": [
    "import time   #시간 측정 라이브러리"
   ]
  },
  {
   "cell_type": "code",
   "execution_count": 3,
   "id": "a8ff6d7b",
   "metadata": {},
   "outputs": [
    {
     "name": "stdout",
     "output_type": "stream",
     "text": [
      "1+2+...+100000000= 5000000050000000\n",
      "소요 시간은  12.684585809707642 초입니다.\n"
     ]
    }
   ],
   "source": [
    "start=time.time()   #시작 직전 시각을 기록\n",
    "sum=0\n",
    "for i in range(1, 100000001):   #1억 번 반복\n",
    "    sum=sum+i\n",
    "\n",
    "end=time.time()   #끝난 직후 시각을 기록\n",
    "\n",
    "print('1+2+...+100000000=', sum)\n",
    "print('소요 시간은 ', end-start, '초입니다.') #시간 차이를 계산하여 출력"
   ]
  },
  {
   "cell_type": "code",
   "execution_count": null,
   "id": "fb98a047",
   "metadata": {},
   "outputs": [],
   "source": []
  }
 ],
 "metadata": {
  "kernelspec": {
   "display_name": "Python 3 (ipykernel)",
   "language": "python",
   "name": "python3"
  },
  "language_info": {
   "codemirror_mode": {
    "name": "ipython",
    "version": 3
   },
   "file_extension": ".py",
   "mimetype": "text/x-python",
   "name": "python",
   "nbconvert_exporter": "python",
   "pygments_lexer": "ipython3",
   "version": "3.7.13"
  }
 },
 "nbformat": 4,
 "nbformat_minor": 5
}
