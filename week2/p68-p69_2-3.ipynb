{
 "cells": [
  {
   "cell_type": "code",
   "execution_count": 1,
   "id": "2201c9e7",
   "metadata": {},
   "outputs": [],
   "source": [
    "from datetime import datetime"
   ]
  },
  {
   "cell_type": "code",
   "execution_count": 2,
   "id": "4ba3b642",
   "metadata": {},
   "outputs": [
    {
     "name": "stdout",
     "output_type": "stream",
     "text": [
      "경기가 열린 곳은? 런던 스타디움\n",
      "경기가 열린 시간은? 8월 6일 오후 7시\n",
      "상대 팀은? 맨체스터 유나이티드\n",
      "손흥민은 몇 골을 넣었나요? 2\n",
      "도움은 몇 개인가요? 1\n",
      "손흥민 팀이 넣은 골 수는? 4\n",
      "상대 팀이 넣은 골 수는? 2\n"
     ]
    }
   ],
   "source": [
    "# 경기 결과 입력 받는 곳\n",
    "place=input(\"경기가 열린 곳은? \")\n",
    "time=input(\"경기가 열린 시간은? \")\n",
    "opponent=input(\"상대 팀은? \")\n",
    "goals=input(\"손흥민은 몇 골을 넣었나요? \")\n",
    "aids=input(\"도움은 몇 개인가요? \")\n",
    "score_me=input(\"손흥민 팀이 넣은 골 수는? \")\n",
    "score_you=input(\"상대 팀이 넣은 골 수는? \")\n",
    "\n",
    "# 기사 작성하는 곳\n",
    "news=\"[프리미어 리그 속보(\"+str(datetime.now())+\")]\\n\"\n",
    "news=news+\"손흥민 선수는 \"+place+\"에서 \"+time+\"에 열린 경기에 출전하였습니다. \"\n",
    "news=news+\"상대 팀은 \"+opponent+\"입니다. \""
   ]
  },
  {
   "cell_type": "code",
   "execution_count": 3,
   "id": "b5ef4fd0",
   "metadata": {},
   "outputs": [
    {
     "name": "stdout",
     "output_type": "stream",
     "text": [
      "[프리미어 리그 속보(2022-09-13 21:31:39.223044)]\n",
      "손흥민 선수는 런던 스타디움에서 8월 6일 오후 7시에 열린 경기에 출전하였습니다. 상대 팀은 맨체스터 유나이티드입니다. 손흥민 선수의 팀이 4골을 넣어 2골을 넣은 상대 팀을 이겼습니다. 손흥민 선수는 2골에 도움 1개로 승리를 크게 이끌었습니다. \n"
     ]
    }
   ],
   "source": [
    "if score_me>score_you:\n",
    "    news=news+\"손흥민 선수의 팀이 \"+score_me+\"골을 넣어 \"+score_you+\"골을 넣은 상대 팀을 이겼습니다. \"\n",
    "elif score_me<score_you:\n",
    "    news=news+\"손흥민 선수의 팀이 \"+score_me+\"골을 넣어 \"+score_you+\"골을 넣은 상대 팀에게 졌습니다. \"\n",
    "else:\n",
    "    news=news+\"두 팀은 \"+score_me+\"대\"+score_you+\"로 비겼습니다. \"\n",
    "\n",
    "if int(goals)>0 and int(aids)>0:\n",
    "    news=news+\"손흥민 선수는 \"+goals+\"골에 도움 \"+aids+\"개로 승리를 크게 이끌었습니다. \"\n",
    "elif int(goals)>0 and int(aids)==0:\n",
    "    news=news+\"손흥민 선수는 \"+goals+\"골로 승리를 이끌었습니다. \"\n",
    "elif int(goals)==0 and int(aids)>0:\n",
    "    news=news+\"손흥민 선수는 골은 없지만 도움 \"+aids+\"개로 승리하는 데 공헌하였습니다. \"\n",
    "else:\n",
    "    news=news+\"아쉽게도 이번 경기에서 손홍민의 발끝은 침묵을 지켰습니다. \"\n",
    "\n",
    "print(news)"
   ]
  },
  {
   "cell_type": "code",
   "execution_count": null,
   "id": "125d33b5",
   "metadata": {},
   "outputs": [],
   "source": []
  }
 ],
 "metadata": {
  "kernelspec": {
   "display_name": "Python 3 (ipykernel)",
   "language": "python",
   "name": "python3"
  },
  "language_info": {
   "codemirror_mode": {
    "name": "ipython",
    "version": 3
   },
   "file_extension": ".py",
   "mimetype": "text/x-python",
   "name": "python",
   "nbconvert_exporter": "python",
   "pygments_lexer": "ipython3",
   "version": "3.7.13"
  }
 },
 "nbformat": 4,
 "nbformat_minor": 5
}
